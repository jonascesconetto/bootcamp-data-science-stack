{
 "cells": [
  {
   "cell_type": "markdown",
   "metadata": {
    "id": "grqSrtTPTb_Y"
   },
   "source": [
    "# Análise Exploratória de Dados\n",
    "\n",
    "* Como os valores de alugueis estão distribuidos?\n",
    "* Existe relação entre o número de quartos e o valor do aluguel?\n",
    "* O que podemos observar sobre a possibilidade de aceitar animais?\n",
    "* Qual a relação entre cidades e os números de quartos?\n",
    "* Imóvel mobiliado impacta no preço do aluguel?\n",
    "* Como estão distribuidos os imóveis por número de banheiros?\n",
    "* Existe alguma relação entre o número de vagas de garagem e o valor do aluguel?\n",
    "* E o seguro incêndio?\n",
    "* Existe qualquer impacto do valor do iptu em relação ao valor imóvel?"
   ]
  },
  {
   "cell_type": "markdown",
   "metadata": {},
   "source": [
    "Corrigir data types no filtro e cidade Belo Horizonte."
   ]
  },
  {
   "cell_type": "markdown",
   "metadata": {
    "id": "Zh2gpr78Tb_Y"
   },
   "source": [
    "Importando as bibliotecas necessárias"
   ]
  },
  {
   "cell_type": "code",
   "execution_count": null,
   "metadata": {
    "_cell_guid": "b1076dfc-b9ad-4769-8c92-a6c4dae69d19",
    "_uuid": "8f2839f25d086af736a60e9eeb907d3b93b6e0e5",
    "id": "RRKB6k5FTb_Z"
   },
   "outputs": [],
   "source": [
    "import numpy as np\n",
    "import pandas as pd\n",
    "import seaborn as sns\n",
    "import matplotlib.pyplot as plt\n",
    "import sqlite3"
   ]
  },
  {
   "cell_type": "markdown",
   "metadata": {
    "id": "1qcNCLTtUTng"
   },
   "source": [
    "Carregando a Base de Dados"
   ]
  },
  {
   "cell_type": "code",
   "execution_count": null,
   "metadata": {},
   "outputs": [],
   "source": [
    "connect_dw_imoveis = sqlite3.connect(\"../data/imoveis_dw.db\")"
   ]
  },
  {
   "cell_type": "code",
   "execution_count": null,
   "metadata": {},
   "outputs": [],
   "source": [
    "data = pd.read_sql_query(r\"\"\"\n",
    "    SELECT * FROM IMOVEIS\n",
    "    \"\"\", \n",
    "    connect_dw_imoveis\n",
    "    )"
   ]
  },
  {
   "cell_type": "code",
   "execution_count": null,
   "metadata": {},
   "outputs": [],
   "source": [
    "data.head()"
   ]
  },
  {
   "cell_type": "markdown",
   "metadata": {
    "id": "U316T-Z1Umz1"
   },
   "source": [
    "Exibindo as informações da base de dados"
   ]
  },
  {
   "cell_type": "code",
   "execution_count": null,
   "metadata": {
    "colab": {
     "base_uri": "https://localhost:8080/"
    },
    "id": "YKimrj2MTb_b",
    "outputId": "d37d92fe-0873-4e44-c360-edaf7278ed39"
   },
   "outputs": [],
   "source": [
    "data.info()"
   ]
  },
  {
   "cell_type": "markdown",
   "metadata": {},
   "source": [
    "Análise Estatística Básica."
   ]
  },
  {
   "cell_type": "code",
   "execution_count": null,
   "metadata": {},
   "outputs": [],
   "source": [
    "data.describe()"
   ]
  },
  {
   "cell_type": "markdown",
   "metadata": {
    "id": "7tY0lylkjH5x"
   },
   "source": [
    "Verificando a correlação dos atributos"
   ]
  },
  {
   "cell_type": "code",
   "execution_count": null,
   "metadata": {
    "colab": {
     "base_uri": "https://localhost:8080/",
     "height": 587
    },
    "id": "Z1iCH36vTb_d",
    "outputId": "af11c528-b5ff-441a-b995-8a93dc344713"
   },
   "outputs": [],
   "source": [
    "plt.figure(figsize =(8,8))\n",
    "cor = data.corr()\n",
    "sns.heatmap(cor,annot =True)"
   ]
  },
  {
   "cell_type": "markdown",
   "metadata": {
    "id": "coBre6PkjoWp"
   },
   "source": [
    "Visualizando as correlações em pares"
   ]
  },
  {
   "cell_type": "code",
   "execution_count": null,
   "metadata": {
    "colab": {
     "base_uri": "https://localhost:8080/",
     "height": 1000
    },
    "id": "q69iGOsmTb_e",
    "outputId": "ff8ea529-4cf3-4206-d826-267e4be96148"
   },
   "outputs": [],
   "source": [
    "sns.pairplot(data)"
   ]
  },
  {
   "cell_type": "code",
   "execution_count": null,
   "metadata": {},
   "outputs": [],
   "source": [
    "!pip install sweetviz"
   ]
  },
  {
   "cell_type": "code",
   "execution_count": null,
   "metadata": {
    "colab": {
     "base_uri": "https://localhost:8080/",
     "height": 66,
     "referenced_widgets": [
      "5c550d9afe9d4d5f9585b625e48d9998",
      "7f5c6079e76345f9913f202d1a2a354b",
      "15944e904034483397383211be1fe08d",
      "0862787cf2b849ca9957d47f51a081a8",
      "82083441a2a54b95ad25334769d7cfae",
      "a64d65aed70044eebc2904417228419f",
      "8b76469f6f2848fead97ff45135c3bec",
      "f6863ef18248425f9bb2a52a36277d3a",
      "22ee2bb768d44dedb0e6ef9aec9f106b",
      "d067259dbbc94e7ba1daaca8f3215a4c",
      "b6fcfa9e17974e6996a75faab2c31a43"
     ]
    },
    "id": "0R7CCcSu13z1",
    "outputId": "a396721a-bb1a-4d4a-9495-fcceb6558cf7",
    "scrolled": true
   },
   "outputs": [],
   "source": [
    "import sweetviz as sv\n",
    "\n",
    "my_report = sv.analyze(data,\"valor_aluguel\")\n",
    "my_report.show_html()"
   ]
  },
  {
   "cell_type": "code",
   "execution_count": null,
   "metadata": {
    "scrolled": false
   },
   "outputs": [],
   "source": [
    "my_report.show_notebook()"
   ]
  },
  {
   "cell_type": "markdown",
   "metadata": {},
   "source": [
    "# Como os valores de aluguel estão distribuidos?"
   ]
  },
  {
   "cell_type": "markdown",
   "metadata": {},
   "source": [
    "Intalando o plotly para visualizações dinamicas"
   ]
  },
  {
   "cell_type": "code",
   "execution_count": null,
   "metadata": {},
   "outputs": [],
   "source": [
    "!pip3 install plotly"
   ]
  },
  {
   "cell_type": "code",
   "execution_count": null,
   "metadata": {},
   "outputs": [],
   "source": [
    "import plotly.express as px\n",
    "df = px.data.tips()\n",
    "fig = px.histogram(data, x=\"valor_aluguel\", marginal=\"rug\", hover_data=data.columns)\n",
    "fig.show()"
   ]
  },
  {
   "cell_type": "code",
   "execution_count": null,
   "metadata": {},
   "outputs": [],
   "source": [
    "import plotly.express as px\n",
    "fig = px.box(data, x=\"valor_aluguel\", points=\"all\")\n",
    "fig.show()"
   ]
  },
  {
   "cell_type": "markdown",
   "metadata": {
    "id": "V3wR3JrvTb_e"
   },
   "source": [
    "Alguns insigths identificados...<br/>\n",
    "1. Dados com uma assimetria positiva. <br/>\n",
    "2. Possíveis outliers acima de 15.000,00. <br/>\n",
    "3. A maioria dos valores estão na faixa de R$ 499 à 10.000,00."
   ]
  },
  {
   "cell_type": "markdown",
   "metadata": {
    "id": "NK6RzMaUTb_f"
   },
   "source": [
    "To see the total column more clearly see the plot given below this confirms our inference about the data"
   ]
  },
  {
   "cell_type": "code",
   "execution_count": null,
   "metadata": {
    "id": "_BSq0X-STb_f",
    "outputId": "257d460f-ad83-49f6-8338-a1b70085c248"
   },
   "outputs": [],
   "source": [
    "plt.figure(figsize =(12,5))\n",
    "sns.rugplot(\n",
    "            data['valor_aluguel'],\n",
    "            height=0.6,    \n",
    "            )"
   ]
  },
  {
   "cell_type": "markdown",
   "metadata": {
    "id": "NHVvHYwsTb_g"
   },
   "source": [
    "# Existe qualquer relação entre o número de quartos e o valor do aluguel?"
   ]
  },
  {
   "cell_type": "code",
   "execution_count": null,
   "metadata": {
    "id": "ncMpVxJXTb_g",
    "outputId": "19e26a4d-dde7-4f63-ed5c-51f2633888f2",
    "scrolled": false
   },
   "outputs": [],
   "source": [
    "sns.jointplot(y= data['valor_aluguel'],x = data['num_quartos'],kind ='reg')"
   ]
  },
  {
   "cell_type": "markdown",
   "metadata": {},
   "source": [
    "* Podemos observar que o número de quartos influencia no valor do aluguel.\n",
    "* Os maiores imoveis mais caros são com números de quartos 3 e 4.\n",
    "* Como uma regra geral temos uma relação positiva entre o número de imóveis e o valor do aluguel."
   ]
  },
  {
   "cell_type": "markdown",
   "metadata": {
    "id": "Kd28kL6sTb_h"
   },
   "source": [
    "# O que podemos observar sobre a possibilidade de aceitar animais?"
   ]
  },
  {
   "cell_type": "code",
   "execution_count": null,
   "metadata": {
    "id": "rryL_Tp4Tb_h",
    "outputId": "82b24a67-858e-4dcf-b7c8-2496de4c98f4"
   },
   "outputs": [],
   "source": [
    "sns.countplot(x = data['aceita_animais']\n",
    "              ,hue = data['cidade'])"
   ]
  },
  {
   "cell_type": "code",
   "execution_count": null,
   "metadata": {},
   "outputs": [],
   "source": [
    "data.head()"
   ]
  },
  {
   "cell_type": "markdown",
   "metadata": {
    "id": "jOR3Jo7kTb_h"
   },
   "source": [
    "* Podemos observar que o número de imóveis que aceitam animais é bem maior do que os que não aceitam."
   ]
  },
  {
   "cell_type": "code",
   "execution_count": null,
   "metadata": {},
   "outputs": [],
   "source": [
    "data[\"animal_categorical\"] =  data['aceita_animais'].map({1:\"aceita\",0:\"nao_aceita\"})"
   ]
  },
  {
   "cell_type": "code",
   "execution_count": null,
   "metadata": {
    "id": "yHL2QIGmTb_h",
    "outputId": "44fc874f-90e4-44ef-c06e-68d6c1efc134"
   },
   "outputs": [],
   "source": [
    "sns.boxplot( x = data['valor_aluguel']\n",
    "            ,y = data['animal_categorical'])"
   ]
  },
  {
   "cell_type": "markdown",
   "metadata": {},
   "source": [
    "* A maioria dos imóveis que aceitam animais, custam mais caros do que os que não aceitam."
   ]
  },
  {
   "cell_type": "markdown",
   "metadata": {
    "id": "wbjOxZkGTb_h"
   },
   "source": [
    "# Cidades e os números de quartos"
   ]
  },
  {
   "cell_type": "code",
   "execution_count": null,
   "metadata": {
    "id": "Xahc2i8MTb_i",
    "outputId": "5161feb2-4148-4fd6-972b-7420a1665325"
   },
   "outputs": [],
   "source": [
    "pd.DataFrame(data['cidade'].unique())"
   ]
  },
  {
   "cell_type": "code",
   "execution_count": null,
   "metadata": {
    "id": "ZK_5RvblTb_i",
    "outputId": "66d43daf-f7b2-46df-d32c-ab6ad613e218"
   },
   "outputs": [],
   "source": [
    "sns.catplot(x='cidade', y='num_quartos', data =data)"
   ]
  },
  {
   "cell_type": "markdown",
   "metadata": {
    "id": "deNgBMUcTb_i"
   },
   "source": [
    "* Rio de Janeiro é a cidade com o maior número de quartos."
   ]
  },
  {
   "cell_type": "markdown",
   "metadata": {
    "id": "FfA0apVoTb_j"
   },
   "source": [
    "# Como estão distribuidos os imóveis por número de banheiros?"
   ]
  },
  {
   "cell_type": "code",
   "execution_count": null,
   "metadata": {
    "id": "0z2jSmGDTb_j",
    "outputId": "0d4263b7-0f61-4c42-bcec-7803e6eb0827"
   },
   "outputs": [],
   "source": [
    "plt.subplot(2,1,1)\n",
    "sns.countplot(x = data['num_banheiros'])"
   ]
  },
  {
   "cell_type": "markdown",
   "metadata": {
    "id": "ymfZzg67Tb_j"
   },
   "source": [
    "* A maioria dos imóveis contém de 1 a 2 banheiros.\n",
    "* Existem poucos imóveis com 5 ou mais banheiros."
   ]
  },
  {
   "cell_type": "code",
   "execution_count": null,
   "metadata": {
    "id": "OP2iaad6Tb_j",
    "outputId": "3f044d79-30ee-4f3d-f2dc-fac90ecf62a6"
   },
   "outputs": [],
   "source": [
    "sns.catplot(x ='num_banheiros', y ='valor_aluguel', data = data)"
   ]
  },
  {
   "cell_type": "markdown",
   "metadata": {},
   "source": [
    "* O maior aluguel é de um imóvel que tem 7 banheiros.\n",
    "* Existem alugueis caros com imóveis com 1 a 4 banheiros."
   ]
  },
  {
   "cell_type": "markdown",
   "metadata": {
    "id": "CzKhkliBTb_k"
   },
   "source": [
    "# A mobília nos imoveis impactam no valor do aluguel?"
   ]
  },
  {
   "cell_type": "code",
   "execution_count": null,
   "metadata": {},
   "outputs": [],
   "source": [
    "data[\"mobilia_categorical\"] =  data['mobilia'].map({1:\"mobiliado\",0:\"nao_mobiliado\"})"
   ]
  },
  {
   "cell_type": "code",
   "execution_count": null,
   "metadata": {
    "id": "yHL2QIGmTb_h",
    "outputId": "44fc874f-90e4-44ef-c06e-68d6c1efc134"
   },
   "outputs": [],
   "source": [
    "sns.boxplot( x = data['valor_aluguel']\n",
    "            ,y = data['mobilia_categorical'])"
   ]
  },
  {
   "cell_type": "markdown",
   "metadata": {
    "id": "j6Q16poFTb_k"
   },
   "source": [
    "* De todos os imóveis com valores maiores de aluguel, bem acima da média, são todos não mobiliados.\n",
    "* O que justifica uma fraca correlação entre os atributos."
   ]
  },
  {
   "cell_type": "markdown",
   "metadata": {
    "id": "PDWbbFcITb_k"
   },
   "source": [
    "# Existe alguma relação entre o número de vagas de garagem e o valor do aluguel?"
   ]
  },
  {
   "cell_type": "code",
   "execution_count": null,
   "metadata": {
    "id": "1Ot9LicNTb_k",
    "outputId": "ff78407d-ff41-4ce7-bfb7-903b68bb1d0d"
   },
   "outputs": [],
   "source": [
    "plt.figure(figsize =(6,4))\n",
    "ax = sns.regplot(x = data['garagem'],y = data['valor_aluguel'])"
   ]
  },
  {
   "cell_type": "code",
   "execution_count": null,
   "metadata": {},
   "outputs": [],
   "source": [
    "plt.figure(figsize =(6,4))\n",
    "sns.displot(x = data['garagem'], kde = True)"
   ]
  },
  {
   "cell_type": "markdown",
   "metadata": {},
   "source": [
    "Existe uma pequena correlação entre o número de vagas de garagem e o valor do aluguel."
   ]
  },
  {
   "cell_type": "markdown",
   "metadata": {
    "id": "MErIusgaTb_l"
   },
   "source": [
    "# Vamos analisar o seguro incêndio"
   ]
  },
  {
   "cell_type": "code",
   "execution_count": null,
   "metadata": {
    "id": "_LUUAETBTb_l",
    "outputId": "662d7bcf-611b-426e-f7eb-44953e8bd11a"
   },
   "outputs": [],
   "source": [
    "sns.violinplot(x ='cidade', y ='valor_seguro_incendio', data = data,hue ='cidade')"
   ]
  },
  {
   "cell_type": "markdown",
   "metadata": {
    "id": "sV490TnbTb_l"
   },
   "source": [
    "* São Paulo é a cidade com os maiores valores de seguro incêndio, seguido por Porto Alegre, Belo Horizonte, Rio de Janeiro e Campinas."
   ]
  },
  {
   "cell_type": "code",
   "execution_count": null,
   "metadata": {
    "id": "xTNQMzHLTb_l",
    "outputId": "e50c10bb-e78d-428a-b006-a11a1231f5f8"
   },
   "outputs": [],
   "source": [
    "ax = sns.regplot(x = data['valor_seguro_incendio'],y = data['valor_aluguel'])"
   ]
  },
  {
   "cell_type": "markdown",
   "metadata": {
    "id": "2HJW6ER0Tb_m"
   },
   "source": [
    "* Existe uma alta correlação entre o valor do seguro incendio e o valor do aluguel. \n",
    "* Quanto maior o valor do seguro incendio maior o valor do aluguel."
   ]
  },
  {
   "cell_type": "markdown",
   "metadata": {
    "id": "SfZ_6mLCTb_m"
   },
   "source": [
    "# Existe qualquer relação entre o valor do iptu e o valor do aluguel?"
   ]
  },
  {
   "cell_type": "code",
   "execution_count": null,
   "metadata": {
    "id": "nd4iLs9pTb_m",
    "outputId": "faf3fe89-0fb1-4c13-dcd8-2aa76401cdd9"
   },
   "outputs": [],
   "source": [
    "sns.jointplot(y= data['valor_aluguel'],x = data['valor_iptu'],kind ='reg')"
   ]
  },
  {
   "cell_type": "markdown",
   "metadata": {
    "id": "IayjiI4RTb_m"
   },
   "source": [
    "* Não temos nenhum impacto"
   ]
  },
  {
   "cell_type": "markdown",
   "metadata": {},
   "source": [
    "**Pré-processando os dados**\n",
    "\n",
    "Poucos algoritmos trabalham com dados categóricos, por essas variáveis serem importantes para o nosso modelo precisamos transformar dados categóricos em dados numéricos para poder usar os algoritmos de Machine Learning\n",
    "\n",
    "Podemos usar duas técnicas bem eficientes que são:\n",
    "\n",
    "- **Label Encoder**\n",
    "- **One Hot Enconder**"
   ]
  },
  {
   "cell_type": "markdown",
   "metadata": {},
   "source": [
    "Verificando a quantidade de valores únicos na coluna estado"
   ]
  },
  {
   "cell_type": "code",
   "execution_count": null,
   "metadata": {},
   "outputs": [],
   "source": [
    "data.estado.unique()"
   ]
  },
  {
   "cell_type": "markdown",
   "metadata": {},
   "source": [
    "Verificando a quantidade de valores únicos na coluna cidade"
   ]
  },
  {
   "cell_type": "code",
   "execution_count": null,
   "metadata": {},
   "outputs": [],
   "source": [
    "data.cidade.unique()"
   ]
  },
  {
   "cell_type": "markdown",
   "metadata": {},
   "source": [
    "Importando a biblioteca"
   ]
  },
  {
   "cell_type": "markdown",
   "metadata": {},
   "source": [
    "**Aplicando o One Hot Encoder**"
   ]
  },
  {
   "cell_type": "markdown",
   "metadata": {},
   "source": [
    "Subistituindo o dataframe data pelo dataframe após aplicado o get_dummies()"
   ]
  },
  {
   "cell_type": "code",
   "execution_count": null,
   "metadata": {},
   "outputs": [],
   "source": [
    "data = pd.get_dummies(data, columns=[\"estado\",\"cidade\"], prefix=[\"estado_\",\"cidade_\"])"
   ]
  },
  {
   "cell_type": "code",
   "execution_count": null,
   "metadata": {},
   "outputs": [],
   "source": [
    "data.head()"
   ]
  },
  {
   "cell_type": "markdown",
   "metadata": {},
   "source": [
    "# Amanhã..."
   ]
  },
  {
   "cell_type": "markdown",
   "metadata": {},
   "source": [
    "# Detecção de Outliers, Machine Learning, Deploy"
   ]
  }
 ],
 "metadata": {
  "colab": {
   "name": "notebook.ipynb",
   "provenance": []
  },
  "kernelspec": {
   "display_name": "Python 3",
   "language": "python",
   "name": "python3"
  },
  "language_info": {
   "codemirror_mode": {
    "name": "ipython",
    "version": 3
   },
   "file_extension": ".py",
   "mimetype": "text/x-python",
   "name": "python",
   "nbconvert_exporter": "python",
   "pygments_lexer": "ipython3",
   "version": "3.8.8"
  },
  "widgets": {
   "application/vnd.jupyter.widget-state+json": {
    "0862787cf2b849ca9957d47f51a081a8": {
     "model_module": "@jupyter-widgets/controls",
     "model_name": "FloatProgressModel",
     "state": {
      "_dom_classes": [],
      "_model_module": "@jupyter-widgets/controls",
      "_model_module_version": "1.5.0",
      "_model_name": "FloatProgressModel",
      "_view_count": null,
      "_view_module": "@jupyter-widgets/controls",
      "_view_module_version": "1.5.0",
      "_view_name": "ProgressView",
      "bar_style": "success",
      "description": "",
      "description_tooltip": null,
      "layout": "IPY_MODEL_22ee2bb768d44dedb0e6ef9aec9f106b",
      "max": 1,
      "min": 0,
      "orientation": "horizontal",
      "style": "IPY_MODEL_f6863ef18248425f9bb2a52a36277d3a",
      "value": 1
     }
    },
    "15944e904034483397383211be1fe08d": {
     "model_module": "@jupyter-widgets/controls",
     "model_name": "HTMLModel",
     "state": {
      "_dom_classes": [],
      "_model_module": "@jupyter-widgets/controls",
      "_model_module_version": "1.5.0",
      "_model_name": "HTMLModel",
      "_view_count": null,
      "_view_module": "@jupyter-widgets/controls",
      "_view_module_version": "1.5.0",
      "_view_name": "HTMLView",
      "description": "",
      "description_tooltip": null,
      "layout": "IPY_MODEL_8b76469f6f2848fead97ff45135c3bec",
      "placeholder": "​",
      "style": "IPY_MODEL_a64d65aed70044eebc2904417228419f",
      "value": "Done! Use &#x27;show&#x27; commands to display/save.   "
     }
    },
    "22ee2bb768d44dedb0e6ef9aec9f106b": {
     "model_module": "@jupyter-widgets/base",
     "model_name": "LayoutModel",
     "state": {
      "_model_module": "@jupyter-widgets/base",
      "_model_module_version": "1.2.0",
      "_model_name": "LayoutModel",
      "_view_count": null,
      "_view_module": "@jupyter-widgets/base",
      "_view_module_version": "1.2.0",
      "_view_name": "LayoutView",
      "align_content": null,
      "align_items": null,
      "align_self": null,
      "border": null,
      "bottom": null,
      "display": null,
      "flex": "2",
      "flex_flow": null,
      "grid_area": null,
      "grid_auto_columns": null,
      "grid_auto_flow": null,
      "grid_auto_rows": null,
      "grid_column": null,
      "grid_gap": null,
      "grid_row": null,
      "grid_template_areas": null,
      "grid_template_columns": null,
      "grid_template_rows": null,
      "height": null,
      "justify_content": null,
      "justify_items": null,
      "left": null,
      "margin": null,
      "max_height": null,
      "max_width": null,
      "min_height": null,
      "min_width": null,
      "object_fit": null,
      "object_position": null,
      "order": null,
      "overflow": null,
      "overflow_x": null,
      "overflow_y": null,
      "padding": null,
      "right": null,
      "top": null,
      "visibility": null,
      "width": null
     }
    },
    "5c550d9afe9d4d5f9585b625e48d9998": {
     "model_module": "@jupyter-widgets/controls",
     "model_name": "HBoxModel",
     "state": {
      "_dom_classes": [],
      "_model_module": "@jupyter-widgets/controls",
      "_model_module_version": "1.5.0",
      "_model_name": "HBoxModel",
      "_view_count": null,
      "_view_module": "@jupyter-widgets/controls",
      "_view_module_version": "1.5.0",
      "_view_name": "HBoxView",
      "box_style": "",
      "children": [
       "IPY_MODEL_15944e904034483397383211be1fe08d",
       "IPY_MODEL_0862787cf2b849ca9957d47f51a081a8",
       "IPY_MODEL_82083441a2a54b95ad25334769d7cfae"
      ],
      "layout": "IPY_MODEL_7f5c6079e76345f9913f202d1a2a354b"
     }
    },
    "7f5c6079e76345f9913f202d1a2a354b": {
     "model_module": "@jupyter-widgets/base",
     "model_name": "LayoutModel",
     "state": {
      "_model_module": "@jupyter-widgets/base",
      "_model_module_version": "1.2.0",
      "_model_name": "LayoutModel",
      "_view_count": null,
      "_view_module": "@jupyter-widgets/base",
      "_view_module_version": "1.2.0",
      "_view_name": "LayoutView",
      "align_content": null,
      "align_items": null,
      "align_self": null,
      "border": null,
      "bottom": null,
      "display": "inline-flex",
      "flex": null,
      "flex_flow": "row wrap",
      "grid_area": null,
      "grid_auto_columns": null,
      "grid_auto_flow": null,
      "grid_auto_rows": null,
      "grid_column": null,
      "grid_gap": null,
      "grid_row": null,
      "grid_template_areas": null,
      "grid_template_columns": null,
      "grid_template_rows": null,
      "height": null,
      "justify_content": null,
      "justify_items": null,
      "left": null,
      "margin": null,
      "max_height": null,
      "max_width": null,
      "min_height": null,
      "min_width": null,
      "object_fit": null,
      "object_position": null,
      "order": null,
      "overflow": null,
      "overflow_x": null,
      "overflow_y": null,
      "padding": null,
      "right": null,
      "top": null,
      "visibility": null,
      "width": "100%"
     }
    },
    "82083441a2a54b95ad25334769d7cfae": {
     "model_module": "@jupyter-widgets/controls",
     "model_name": "HTMLModel",
     "state": {
      "_dom_classes": [],
      "_model_module": "@jupyter-widgets/controls",
      "_model_module_version": "1.5.0",
      "_model_name": "HTMLModel",
      "_view_count": null,
      "_view_module": "@jupyter-widgets/controls",
      "_view_module_version": "1.5.0",
      "_view_name": "HTMLView",
      "description": "",
      "description_tooltip": null,
      "layout": "IPY_MODEL_b6fcfa9e17974e6996a75faab2c31a43",
      "placeholder": "​",
      "style": "IPY_MODEL_d067259dbbc94e7ba1daaca8f3215a4c",
      "value": " [100%]   00:00 -&gt; (00:00 left)"
     }
    },
    "8b76469f6f2848fead97ff45135c3bec": {
     "model_module": "@jupyter-widgets/base",
     "model_name": "LayoutModel",
     "state": {
      "_model_module": "@jupyter-widgets/base",
      "_model_module_version": "1.2.0",
      "_model_name": "LayoutModel",
      "_view_count": null,
      "_view_module": "@jupyter-widgets/base",
      "_view_module_version": "1.2.0",
      "_view_name": "LayoutView",
      "align_content": null,
      "align_items": null,
      "align_self": null,
      "border": null,
      "bottom": null,
      "display": null,
      "flex": null,
      "flex_flow": null,
      "grid_area": null,
      "grid_auto_columns": null,
      "grid_auto_flow": null,
      "grid_auto_rows": null,
      "grid_column": null,
      "grid_gap": null,
      "grid_row": null,
      "grid_template_areas": null,
      "grid_template_columns": null,
      "grid_template_rows": null,
      "height": null,
      "justify_content": null,
      "justify_items": null,
      "left": null,
      "margin": null,
      "max_height": null,
      "max_width": null,
      "min_height": null,
      "min_width": null,
      "object_fit": null,
      "object_position": null,
      "order": null,
      "overflow": null,
      "overflow_x": null,
      "overflow_y": null,
      "padding": null,
      "right": null,
      "top": null,
      "visibility": null,
      "width": null
     }
    },
    "a64d65aed70044eebc2904417228419f": {
     "model_module": "@jupyter-widgets/controls",
     "model_name": "DescriptionStyleModel",
     "state": {
      "_model_module": "@jupyter-widgets/controls",
      "_model_module_version": "1.5.0",
      "_model_name": "DescriptionStyleModel",
      "_view_count": null,
      "_view_module": "@jupyter-widgets/base",
      "_view_module_version": "1.2.0",
      "_view_name": "StyleView",
      "description_width": ""
     }
    },
    "b6fcfa9e17974e6996a75faab2c31a43": {
     "model_module": "@jupyter-widgets/base",
     "model_name": "LayoutModel",
     "state": {
      "_model_module": "@jupyter-widgets/base",
      "_model_module_version": "1.2.0",
      "_model_name": "LayoutModel",
      "_view_count": null,
      "_view_module": "@jupyter-widgets/base",
      "_view_module_version": "1.2.0",
      "_view_name": "LayoutView",
      "align_content": null,
      "align_items": null,
      "align_self": null,
      "border": null,
      "bottom": null,
      "display": null,
      "flex": null,
      "flex_flow": null,
      "grid_area": null,
      "grid_auto_columns": null,
      "grid_auto_flow": null,
      "grid_auto_rows": null,
      "grid_column": null,
      "grid_gap": null,
      "grid_row": null,
      "grid_template_areas": null,
      "grid_template_columns": null,
      "grid_template_rows": null,
      "height": null,
      "justify_content": null,
      "justify_items": null,
      "left": null,
      "margin": null,
      "max_height": null,
      "max_width": null,
      "min_height": null,
      "min_width": null,
      "object_fit": null,
      "object_position": null,
      "order": null,
      "overflow": null,
      "overflow_x": null,
      "overflow_y": null,
      "padding": null,
      "right": null,
      "top": null,
      "visibility": null,
      "width": null
     }
    },
    "d067259dbbc94e7ba1daaca8f3215a4c": {
     "model_module": "@jupyter-widgets/controls",
     "model_name": "DescriptionStyleModel",
     "state": {
      "_model_module": "@jupyter-widgets/controls",
      "_model_module_version": "1.5.0",
      "_model_name": "DescriptionStyleModel",
      "_view_count": null,
      "_view_module": "@jupyter-widgets/base",
      "_view_module_version": "1.2.0",
      "_view_name": "StyleView",
      "description_width": ""
     }
    },
    "f6863ef18248425f9bb2a52a36277d3a": {
     "model_module": "@jupyter-widgets/controls",
     "model_name": "ProgressStyleModel",
     "state": {
      "_model_module": "@jupyter-widgets/controls",
      "_model_module_version": "1.5.0",
      "_model_name": "ProgressStyleModel",
      "_view_count": null,
      "_view_module": "@jupyter-widgets/base",
      "_view_module_version": "1.2.0",
      "_view_name": "StyleView",
      "bar_color": null,
      "description_width": ""
     }
    }
   }
  }
 },
 "nbformat": 4,
 "nbformat_minor": 1
}
